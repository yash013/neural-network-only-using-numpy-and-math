{
 "cells": [
  {
   "cell_type": "markdown",
   "id": "32c68de1",
   "metadata": {
    "_cell_guid": "82418877-8407-45ef-9b76-86ca80e07abf",
    "_execution_state": "idle",
    "_uuid": "483f57b296f8d69647bbec1154acfa2da3c6fc2f",
    "papermill": {
     "duration": 0.006259,
     "end_time": "2024-04-17T13:42:00.199909",
     "exception": false,
     "start_time": "2024-04-17T13:42:00.193650",
     "status": "completed"
    },
    "tags": []
   },
   "source": [
    "# No Karas, No tenserflow, No Pytorch implement neural network only using numpy and math"
   ]
  },
  {
   "cell_type": "markdown",
   "id": "a2ebf5f6",
   "metadata": {
    "_cell_guid": "440129fa-bb2d-47b8-9415-714467d98743",
    "_execution_state": "idle",
    "_uuid": "44f63ca7fc70094c75598c27b433b316ea406237",
    "papermill": {
     "duration": 0.005242,
     "end_time": "2024-04-17T13:42:00.211288",
     "exception": false,
     "start_time": "2024-04-17T13:42:00.206046",
     "status": "completed"
    },
    "tags": []
   },
   "source": [
    "Importing key libraries, and reading data"
   ]
  },
  {
   "cell_type": "code",
   "execution_count": 1,
   "id": "36b3087b",
   "metadata": {
    "_cell_guid": "55ec59e1-8a8c-42d2-8ccc-b6d95ea198b4",
    "_execution_state": "busy",
    "_uuid": "a6d625ede9e19ac1f146a5f63d6ca19c4b98e20c",
    "execution": {
     "iopub.execute_input": "2024-04-17T13:42:00.226672Z",
     "iopub.status.busy": "2024-04-17T13:42:00.225723Z",
     "iopub.status.idle": "2024-04-17T13:42:01.197772Z",
     "shell.execute_reply": "2024-04-17T13:42:01.196281Z"
    },
    "papermill": {
     "duration": 0.983588,
     "end_time": "2024-04-17T13:42:01.201249",
     "exception": false,
     "start_time": "2024-04-17T13:42:00.217661",
     "status": "completed"
    },
    "tags": []
   },
   "outputs": [],
   "source": [
    "import pandas as pd\n",
    "import numpy as np\n",
    "from matplotlib import pyplot as plt"
   ]
  },
  {
   "cell_type": "code",
   "execution_count": 2,
   "id": "3835fe5e",
   "metadata": {
    "_cell_guid": "daa0805e-e1dd-4806-b2db-ff0124febe7d",
    "_execution_state": "busy",
    "_uuid": "be0a7acbb3bfc83fd3103b4a401337aafe57c00d",
    "collapsed": false,
    "execution": {
     "iopub.execute_input": "2024-04-17T13:42:01.215790Z",
     "iopub.status.busy": "2024-04-17T13:42:01.214148Z",
     "iopub.status.idle": "2024-04-17T13:42:08.592692Z",
     "shell.execute_reply": "2024-04-17T13:42:08.588187Z"
    },
    "jupyter": {
     "outputs_hidden": false
    },
    "papermill": {
     "duration": 7.389321,
     "end_time": "2024-04-17T13:42:08.596333",
     "exception": false,
     "start_time": "2024-04-17T13:42:01.207012",
     "status": "completed"
    },
    "tags": []
   },
   "outputs": [],
   "source": [
    "df_train = pd.read_csv('../input/train.csv')\n",
    "df_test = pd.read_csv('../input/test.csv')"
   ]
  },
  {
   "cell_type": "code",
   "execution_count": 3,
   "id": "3d76b9aa",
   "metadata": {
    "_cell_guid": "dfae6a31-23ea-4d88-9fcd-06b8b705b614",
    "_execution_state": "busy",
    "_uuid": "0f7bfb5923e5b4ed5a5149c007a2cd39cb9b8282",
    "collapsed": false,
    "execution": {
     "iopub.execute_input": "2024-04-17T13:42:08.612030Z",
     "iopub.status.busy": "2024-04-17T13:42:08.610721Z",
     "iopub.status.idle": "2024-04-17T13:42:08.641265Z",
     "shell.execute_reply": "2024-04-17T13:42:08.639974Z"
    },
    "jupyter": {
     "outputs_hidden": false
    },
    "papermill": {
     "duration": 0.043877,
     "end_time": "2024-04-17T13:42:08.645864",
     "exception": false,
     "start_time": "2024-04-17T13:42:08.601987",
     "status": "completed"
    },
    "tags": []
   },
   "outputs": [
    {
     "data": {
      "text/html": [
       "<div>\n",
       "<style scoped>\n",
       "    .dataframe tbody tr th:only-of-type {\n",
       "        vertical-align: middle;\n",
       "    }\n",
       "\n",
       "    .dataframe tbody tr th {\n",
       "        vertical-align: top;\n",
       "    }\n",
       "\n",
       "    .dataframe thead th {\n",
       "        text-align: right;\n",
       "    }\n",
       "</style>\n",
       "<table border=\"1\" class=\"dataframe\">\n",
       "  <thead>\n",
       "    <tr style=\"text-align: right;\">\n",
       "      <th></th>\n",
       "      <th>label</th>\n",
       "      <th>pixel0</th>\n",
       "      <th>pixel1</th>\n",
       "      <th>pixel2</th>\n",
       "      <th>pixel3</th>\n",
       "      <th>pixel4</th>\n",
       "      <th>pixel5</th>\n",
       "      <th>pixel6</th>\n",
       "      <th>pixel7</th>\n",
       "      <th>pixel8</th>\n",
       "      <th>...</th>\n",
       "      <th>pixel774</th>\n",
       "      <th>pixel775</th>\n",
       "      <th>pixel776</th>\n",
       "      <th>pixel777</th>\n",
       "      <th>pixel778</th>\n",
       "      <th>pixel779</th>\n",
       "      <th>pixel780</th>\n",
       "      <th>pixel781</th>\n",
       "      <th>pixel782</th>\n",
       "      <th>pixel783</th>\n",
       "    </tr>\n",
       "  </thead>\n",
       "  <tbody>\n",
       "    <tr>\n",
       "      <th>0</th>\n",
       "      <td>1</td>\n",
       "      <td>0</td>\n",
       "      <td>0</td>\n",
       "      <td>0</td>\n",
       "      <td>0</td>\n",
       "      <td>0</td>\n",
       "      <td>0</td>\n",
       "      <td>0</td>\n",
       "      <td>0</td>\n",
       "      <td>0</td>\n",
       "      <td>...</td>\n",
       "      <td>0</td>\n",
       "      <td>0</td>\n",
       "      <td>0</td>\n",
       "      <td>0</td>\n",
       "      <td>0</td>\n",
       "      <td>0</td>\n",
       "      <td>0</td>\n",
       "      <td>0</td>\n",
       "      <td>0</td>\n",
       "      <td>0</td>\n",
       "    </tr>\n",
       "    <tr>\n",
       "      <th>1</th>\n",
       "      <td>0</td>\n",
       "      <td>0</td>\n",
       "      <td>0</td>\n",
       "      <td>0</td>\n",
       "      <td>0</td>\n",
       "      <td>0</td>\n",
       "      <td>0</td>\n",
       "      <td>0</td>\n",
       "      <td>0</td>\n",
       "      <td>0</td>\n",
       "      <td>...</td>\n",
       "      <td>0</td>\n",
       "      <td>0</td>\n",
       "      <td>0</td>\n",
       "      <td>0</td>\n",
       "      <td>0</td>\n",
       "      <td>0</td>\n",
       "      <td>0</td>\n",
       "      <td>0</td>\n",
       "      <td>0</td>\n",
       "      <td>0</td>\n",
       "    </tr>\n",
       "    <tr>\n",
       "      <th>2</th>\n",
       "      <td>1</td>\n",
       "      <td>0</td>\n",
       "      <td>0</td>\n",
       "      <td>0</td>\n",
       "      <td>0</td>\n",
       "      <td>0</td>\n",
       "      <td>0</td>\n",
       "      <td>0</td>\n",
       "      <td>0</td>\n",
       "      <td>0</td>\n",
       "      <td>...</td>\n",
       "      <td>0</td>\n",
       "      <td>0</td>\n",
       "      <td>0</td>\n",
       "      <td>0</td>\n",
       "      <td>0</td>\n",
       "      <td>0</td>\n",
       "      <td>0</td>\n",
       "      <td>0</td>\n",
       "      <td>0</td>\n",
       "      <td>0</td>\n",
       "    </tr>\n",
       "    <tr>\n",
       "      <th>3</th>\n",
       "      <td>4</td>\n",
       "      <td>0</td>\n",
       "      <td>0</td>\n",
       "      <td>0</td>\n",
       "      <td>0</td>\n",
       "      <td>0</td>\n",
       "      <td>0</td>\n",
       "      <td>0</td>\n",
       "      <td>0</td>\n",
       "      <td>0</td>\n",
       "      <td>...</td>\n",
       "      <td>0</td>\n",
       "      <td>0</td>\n",
       "      <td>0</td>\n",
       "      <td>0</td>\n",
       "      <td>0</td>\n",
       "      <td>0</td>\n",
       "      <td>0</td>\n",
       "      <td>0</td>\n",
       "      <td>0</td>\n",
       "      <td>0</td>\n",
       "    </tr>\n",
       "    <tr>\n",
       "      <th>4</th>\n",
       "      <td>0</td>\n",
       "      <td>0</td>\n",
       "      <td>0</td>\n",
       "      <td>0</td>\n",
       "      <td>0</td>\n",
       "      <td>0</td>\n",
       "      <td>0</td>\n",
       "      <td>0</td>\n",
       "      <td>0</td>\n",
       "      <td>0</td>\n",
       "      <td>...</td>\n",
       "      <td>0</td>\n",
       "      <td>0</td>\n",
       "      <td>0</td>\n",
       "      <td>0</td>\n",
       "      <td>0</td>\n",
       "      <td>0</td>\n",
       "      <td>0</td>\n",
       "      <td>0</td>\n",
       "      <td>0</td>\n",
       "      <td>0</td>\n",
       "    </tr>\n",
       "  </tbody>\n",
       "</table>\n",
       "<p>5 rows × 785 columns</p>\n",
       "</div>"
      ],
      "text/plain": [
       "   label  pixel0  pixel1  pixel2  pixel3  pixel4  pixel5  pixel6  pixel7  \\\n",
       "0      1       0       0       0       0       0       0       0       0   \n",
       "1      0       0       0       0       0       0       0       0       0   \n",
       "2      1       0       0       0       0       0       0       0       0   \n",
       "3      4       0       0       0       0       0       0       0       0   \n",
       "4      0       0       0       0       0       0       0       0       0   \n",
       "\n",
       "   pixel8  ...  pixel774  pixel775  pixel776  pixel777  pixel778  pixel779  \\\n",
       "0       0  ...         0         0         0         0         0         0   \n",
       "1       0  ...         0         0         0         0         0         0   \n",
       "2       0  ...         0         0         0         0         0         0   \n",
       "3       0  ...         0         0         0         0         0         0   \n",
       "4       0  ...         0         0         0         0         0         0   \n",
       "\n",
       "   pixel780  pixel781  pixel782  pixel783  \n",
       "0         0         0         0         0  \n",
       "1         0         0         0         0  \n",
       "2         0         0         0         0  \n",
       "3         0         0         0         0  \n",
       "4         0         0         0         0  \n",
       "\n",
       "[5 rows x 785 columns]"
      ]
     },
     "execution_count": 3,
     "metadata": {},
     "output_type": "execute_result"
    }
   ],
   "source": [
    "df_train.head() # 784 features, 1 label"
   ]
  },
  {
   "cell_type": "code",
   "execution_count": 4,
   "id": "e6c1a014",
   "metadata": {
    "execution": {
     "iopub.execute_input": "2024-04-17T13:42:08.661300Z",
     "iopub.status.busy": "2024-04-17T13:42:08.659699Z",
     "iopub.status.idle": "2024-04-17T13:42:09.612361Z",
     "shell.execute_reply": "2024-04-17T13:42:09.611116Z"
    },
    "papermill": {
     "duration": 0.963963,
     "end_time": "2024-04-17T13:42:09.615795",
     "exception": false,
     "start_time": "2024-04-17T13:42:08.651832",
     "status": "completed"
    },
    "tags": []
   },
   "outputs": [],
   "source": [
    "data = np.array(df_train)\n",
    "m, n = data.shape\n",
    "np.random.shuffle(data) # shuffle before splitting into dev and training sets\n",
    "\n",
    "data_dev = data[0:1000].T\n",
    "Y_dev = data_dev[0]\n",
    "X_dev = data_dev[1:n]\n",
    "X_dev = X_dev / 255.\n",
    "\n",
    "data_train = data[1000:m].T\n",
    "Y_train = data_train[0]\n",
    "X_train = data_train[1:n]\n",
    "X_train = X_train / 255.\n",
    "_,m_train = X_train.shape"
   ]
  },
  {
   "cell_type": "code",
   "execution_count": 5,
   "id": "76a5fe2b",
   "metadata": {
    "execution": {
     "iopub.execute_input": "2024-04-17T13:42:09.629888Z",
     "iopub.status.busy": "2024-04-17T13:42:09.629460Z",
     "iopub.status.idle": "2024-04-17T13:42:09.645612Z",
     "shell.execute_reply": "2024-04-17T13:42:09.644590Z"
    },
    "papermill": {
     "duration": 0.02619,
     "end_time": "2024-04-17T13:42:09.648061",
     "exception": false,
     "start_time": "2024-04-17T13:42:09.621871",
     "status": "completed"
    },
    "tags": []
   },
   "outputs": [],
   "source": [
    "def init_params():\n",
    "    W1 = np.random.rand(10, 784) - 0.5\n",
    "    b1 = np.random.rand(10, 1) - 0.5\n",
    "    W2 = np.random.rand(10, 10) - 0.5\n",
    "    b2 = np.random.rand(10, 1) - 0.5\n",
    "    return W1, b1, W2, b2\n",
    "\n",
    "def ReLU(Z):\n",
    "    return np.maximum(Z, 0)\n",
    "\n",
    "def softmax(Z):\n",
    "    A = np.exp(Z) / sum(np.exp(Z))\n",
    "    return A\n",
    "    \n",
    "def forward_prop(W1, b1, W2, b2, X):\n",
    "    Z1 = W1.dot(X) + b1\n",
    "    A1 = ReLU(Z1)\n",
    "    Z2 = W2.dot(A1) + b2\n",
    "    A2 = softmax(Z2)\n",
    "    return Z1, A1, Z2, A2\n",
    "\n",
    "def ReLU_deriv(Z):\n",
    "    return Z > 0\n",
    "\n",
    "def one_hot(Y):\n",
    "    one_hot_Y = np.zeros((Y.size, Y.max() + 1))\n",
    "    one_hot_Y[np.arange(Y.size), Y] = 1\n",
    "    one_hot_Y = one_hot_Y.T\n",
    "    return one_hot_Y\n",
    "\n",
    "def backward_prop(Z1, A1, Z2, A2, W1, W2, X, Y):\n",
    "    one_hot_Y = one_hot(Y)\n",
    "    dZ2 = A2 - one_hot_Y\n",
    "    dW2 = 1 / m * dZ2.dot(A1.T)\n",
    "    db2 = 1 / m * np.sum(dZ2)\n",
    "    dZ1 = W2.T.dot(dZ2) * ReLU_deriv(Z1)\n",
    "    dW1 = 1 / m * dZ1.dot(X.T)\n",
    "    db1 = 1 / m * np.sum(dZ1)\n",
    "    return dW1, db1, dW2, db2\n",
    "\n",
    "def update_params(W1, b1, W2, b2, dW1, db1, dW2, db2, alpha):\n",
    "    W1 = W1 - alpha * dW1\n",
    "    b1 = b1 - alpha * db1    \n",
    "    W2 = W2 - alpha * dW2  \n",
    "    b2 = b2 - alpha * db2    \n",
    "    return W1, b1, W2, b2"
   ]
  },
  {
   "cell_type": "code",
   "execution_count": 6,
   "id": "88ecafba",
   "metadata": {
    "execution": {
     "iopub.execute_input": "2024-04-17T13:42:09.662691Z",
     "iopub.status.busy": "2024-04-17T13:42:09.661907Z",
     "iopub.status.idle": "2024-04-17T13:42:09.672896Z",
     "shell.execute_reply": "2024-04-17T13:42:09.671591Z"
    },
    "papermill": {
     "duration": 0.021737,
     "end_time": "2024-04-17T13:42:09.675799",
     "exception": false,
     "start_time": "2024-04-17T13:42:09.654062",
     "status": "completed"
    },
    "tags": []
   },
   "outputs": [],
   "source": [
    "def get_predictions(A2):\n",
    "    return np.argmax(A2, 0)\n",
    "\n",
    "def get_accuracy(predictions, Y):\n",
    "    print(predictions, Y)\n",
    "    return np.sum(predictions == Y) / Y.size\n",
    "\n",
    "def gradient_descent(X, Y, alpha, iterations):\n",
    "    W1, b1, W2, b2 = init_params()\n",
    "    for i in range(iterations):\n",
    "        Z1, A1, Z2, A2 = forward_prop(W1, b1, W2, b2, X)\n",
    "        dW1, db1, dW2, db2 = backward_prop(Z1, A1, Z2, A2, W1, W2, X, Y)\n",
    "        W1, b1, W2, b2 = update_params(W1, b1, W2, b2, dW1, db1, dW2, db2, alpha)\n",
    "        if i % 10 == 0:\n",
    "            print(\"Iteration: \", i)\n",
    "            predictions = get_predictions(A2)\n",
    "            print(get_accuracy(predictions, Y))\n",
    "    return W1, b1, W2, b2"
   ]
  },
  {
   "cell_type": "code",
   "execution_count": 7,
   "id": "9889462f",
   "metadata": {
    "execution": {
     "iopub.execute_input": "2024-04-17T13:42:09.690141Z",
     "iopub.status.busy": "2024-04-17T13:42:09.689699Z",
     "iopub.status.idle": "2024-04-17T13:43:21.024068Z",
     "shell.execute_reply": "2024-04-17T13:43:21.022394Z"
    },
    "papermill": {
     "duration": 71.347196,
     "end_time": "2024-04-17T13:43:21.029184",
     "exception": false,
     "start_time": "2024-04-17T13:42:09.681988",
     "status": "completed"
    },
    "tags": []
   },
   "outputs": [
    {
     "name": "stdout",
     "output_type": "stream",
     "text": [
      "Iteration:  0\n",
      "[2 2 2 ... 2 2 2] [3 4 0 ... 6 9 5]\n",
      "0.10878048780487805\n",
      "Iteration:  10\n",
      "[0 0 0 ... 5 1 2] [3 4 0 ... 6 9 5]\n",
      "0.18907317073170732\n",
      "Iteration:  20\n",
      "[0 0 0 ... 0 1 2] [3 4 0 ... 6 9 5]\n",
      "0.24829268292682927\n",
      "Iteration:  30\n",
      "[0 0 0 ... 0 1 2] [3 4 0 ... 6 9 5]\n",
      "0.29497560975609755\n",
      "Iteration:  40\n",
      "[0 0 0 ... 0 4 2] [3 4 0 ... 6 9 5]\n",
      "0.34151219512195125\n",
      "Iteration:  50\n",
      "[0 0 0 ... 0 4 2] [3 4 0 ... 6 9 5]\n",
      "0.3875609756097561\n",
      "Iteration:  60\n",
      "[0 2 0 ... 0 4 2] [3 4 0 ... 6 9 5]\n",
      "0.4285609756097561\n",
      "Iteration:  70\n",
      "[0 2 0 ... 0 4 2] [3 4 0 ... 6 9 5]\n",
      "0.4658048780487805\n",
      "Iteration:  80\n",
      "[0 2 0 ... 0 4 9] [3 4 0 ... 6 9 5]\n",
      "0.4979512195121951\n",
      "Iteration:  90\n",
      "[0 4 0 ... 0 4 9] [3 4 0 ... 6 9 5]\n",
      "0.519609756097561\n",
      "Iteration:  100\n",
      "[0 4 0 ... 6 4 9] [3 4 0 ... 6 9 5]\n",
      "0.5349756097560976\n",
      "Iteration:  110\n",
      "[5 4 0 ... 6 4 9] [3 4 0 ... 6 9 5]\n",
      "0.5512439024390244\n",
      "Iteration:  120\n",
      "[5 4 0 ... 6 4 9] [3 4 0 ... 6 9 5]\n",
      "0.566\n",
      "Iteration:  130\n",
      "[5 4 0 ... 6 4 9] [3 4 0 ... 6 9 5]\n",
      "0.5802682926829268\n",
      "Iteration:  140\n",
      "[5 4 0 ... 6 4 4] [3 4 0 ... 6 9 5]\n",
      "0.5953414634146341\n",
      "Iteration:  150\n",
      "[5 4 0 ... 6 9 4] [3 4 0 ... 6 9 5]\n",
      "0.6105609756097561\n",
      "Iteration:  160\n",
      "[5 4 0 ... 6 9 4] [3 4 0 ... 6 9 5]\n",
      "0.6233658536585366\n",
      "Iteration:  170\n",
      "[5 4 0 ... 6 9 4] [3 4 0 ... 6 9 5]\n",
      "0.6351951219512195\n",
      "Iteration:  180\n",
      "[5 4 0 ... 6 9 4] [3 4 0 ... 6 9 5]\n",
      "0.6454634146341464\n",
      "Iteration:  190\n",
      "[5 4 0 ... 6 9 4] [3 4 0 ... 6 9 5]\n",
      "0.656390243902439\n",
      "Iteration:  200\n",
      "[5 4 0 ... 6 9 4] [3 4 0 ... 6 9 5]\n",
      "0.6652926829268293\n",
      "Iteration:  210\n",
      "[5 4 0 ... 6 9 4] [3 4 0 ... 6 9 5]\n",
      "0.6743658536585366\n",
      "Iteration:  220\n",
      "[5 4 0 ... 6 9 4] [3 4 0 ... 6 9 5]\n",
      "0.6833170731707318\n",
      "Iteration:  230\n",
      "[5 4 0 ... 6 9 4] [3 4 0 ... 6 9 5]\n",
      "0.6906341463414634\n",
      "Iteration:  240\n",
      "[5 4 0 ... 6 9 4] [3 4 0 ... 6 9 5]\n",
      "0.6996829268292682\n",
      "Iteration:  250\n",
      "[5 4 0 ... 6 9 4] [3 4 0 ... 6 9 5]\n",
      "0.7078780487804878\n",
      "Iteration:  260\n",
      "[5 4 0 ... 6 9 4] [3 4 0 ... 6 9 5]\n",
      "0.7156585365853658\n",
      "Iteration:  270\n",
      "[5 4 0 ... 6 9 4] [3 4 0 ... 6 9 5]\n",
      "0.7228048780487805\n",
      "Iteration:  280\n",
      "[5 4 0 ... 6 9 4] [3 4 0 ... 6 9 5]\n",
      "0.7295609756097561\n",
      "Iteration:  290\n",
      "[5 4 0 ... 6 9 4] [3 4 0 ... 6 9 5]\n",
      "0.7356585365853658\n",
      "Iteration:  300\n",
      "[5 4 0 ... 6 9 4] [3 4 0 ... 6 9 5]\n",
      "0.7415365853658537\n",
      "Iteration:  310\n",
      "[5 4 0 ... 6 9 4] [3 4 0 ... 6 9 5]\n",
      "0.7461951219512195\n",
      "Iteration:  320\n",
      "[5 4 0 ... 6 9 4] [3 4 0 ... 6 9 5]\n",
      "0.7514634146341463\n",
      "Iteration:  330\n",
      "[5 4 0 ... 6 9 4] [3 4 0 ... 6 9 5]\n",
      "0.7562926829268293\n",
      "Iteration:  340\n",
      "[5 4 0 ... 6 9 4] [3 4 0 ... 6 9 5]\n",
      "0.760609756097561\n",
      "Iteration:  350\n",
      "[5 4 0 ... 6 9 4] [3 4 0 ... 6 9 5]\n",
      "0.7650243902439025\n",
      "Iteration:  360\n",
      "[5 4 0 ... 6 9 4] [3 4 0 ... 6 9 5]\n",
      "0.7685365853658537\n",
      "Iteration:  370\n",
      "[5 4 0 ... 6 9 4] [3 4 0 ... 6 9 5]\n",
      "0.7723170731707317\n",
      "Iteration:  380\n",
      "[5 4 0 ... 6 9 4] [3 4 0 ... 6 9 5]\n",
      "0.7755365853658537\n",
      "Iteration:  390\n",
      "[5 4 0 ... 6 9 4] [3 4 0 ... 6 9 5]\n",
      "0.7788536585365854\n",
      "Iteration:  400\n",
      "[5 4 0 ... 6 9 4] [3 4 0 ... 6 9 5]\n",
      "0.7821463414634147\n",
      "Iteration:  410\n",
      "[5 4 0 ... 6 9 4] [3 4 0 ... 6 9 5]\n",
      "0.7849756097560976\n",
      "Iteration:  420\n",
      "[5 4 0 ... 6 9 4] [3 4 0 ... 6 9 5]\n",
      "0.7880975609756098\n",
      "Iteration:  430\n",
      "[5 4 0 ... 6 9 4] [3 4 0 ... 6 9 5]\n",
      "0.790609756097561\n",
      "Iteration:  440\n",
      "[5 4 0 ... 6 9 4] [3 4 0 ... 6 9 5]\n",
      "0.7927804878048781\n",
      "Iteration:  450\n",
      "[5 4 0 ... 6 9 4] [3 4 0 ... 6 9 5]\n",
      "0.7954146341463415\n",
      "Iteration:  460\n",
      "[5 4 0 ... 6 9 4] [3 4 0 ... 6 9 5]\n",
      "0.7975853658536586\n",
      "Iteration:  470\n",
      "[5 4 0 ... 6 9 4] [3 4 0 ... 6 9 5]\n",
      "0.7995365853658537\n",
      "Iteration:  480\n",
      "[5 4 0 ... 6 9 4] [3 4 0 ... 6 9 5]\n",
      "0.8018048780487805\n",
      "Iteration:  490\n",
      "[5 4 0 ... 6 9 4] [3 4 0 ... 6 9 5]\n",
      "0.8040975609756098\n"
     ]
    }
   ],
   "source": [
    "W1, b1, W2, b2 = gradient_descent(X_train, Y_train, 0.10, 500)"
   ]
  },
  {
   "cell_type": "code",
   "execution_count": 8,
   "id": "69545d48",
   "metadata": {
    "execution": {
     "iopub.execute_input": "2024-04-17T13:43:21.081367Z",
     "iopub.status.busy": "2024-04-17T13:43:21.080061Z",
     "iopub.status.idle": "2024-04-17T13:43:21.103940Z",
     "shell.execute_reply": "2024-04-17T13:43:21.101789Z"
    },
    "papermill": {
     "duration": 0.056866,
     "end_time": "2024-04-17T13:43:21.110588",
     "exception": false,
     "start_time": "2024-04-17T13:43:21.053722",
     "status": "completed"
    },
    "tags": []
   },
   "outputs": [],
   "source": [
    "def make_predictions(X, W1, b1, W2, b2):\n",
    "    _, _, _, A2 = forward_prop(W1, b1, W2, b2, X)\n",
    "    predictions = get_predictions(A2)\n",
    "    return predictions\n",
    "\n",
    "def test_prediction(index, W1, b1, W2, b2):\n",
    "    current_image = X_train[:, index, None]\n",
    "    prediction = make_predictions(X_train[:, index, None], W1, b1, W2, b2)\n",
    "    label = Y_train[index]\n",
    "    print(\"Prediction: \", prediction)\n",
    "    print(\"Label: \", label)\n",
    "    \n",
    "    current_image = current_image.reshape((28, 28)) * 255\n",
    "    plt.gray()\n",
    "    plt.imshow(current_image, interpolation='nearest')\n",
    "    plt.show()"
   ]
  },
  {
   "cell_type": "code",
   "execution_count": 9,
   "id": "8fded92d",
   "metadata": {
    "execution": {
     "iopub.execute_input": "2024-04-17T13:43:21.152723Z",
     "iopub.status.busy": "2024-04-17T13:43:21.152267Z",
     "iopub.status.idle": "2024-04-17T13:43:22.225776Z",
     "shell.execute_reply": "2024-04-17T13:43:22.224219Z"
    },
    "papermill": {
     "duration": 1.094458,
     "end_time": "2024-04-17T13:43:22.228758",
     "exception": false,
     "start_time": "2024-04-17T13:43:21.134300",
     "status": "completed"
    },
    "tags": []
   },
   "outputs": [
    {
     "name": "stdout",
     "output_type": "stream",
     "text": [
      "Prediction:  [5]\n",
      "Label:  3\n"
     ]
    },
    {
     "data": {
      "image/png": "[encoded data removed]",
      "text/plain": [
       "<Figure size 640x480 with 1 Axes>"
      ]
     },
     "metadata": {},
     "output_type": "display_data"
    },
    {
     "name": "stdout",
     "output_type": "stream",
     "text": [
      "Prediction:  [4]\n",
      "Label:  4\n"
     ]
    },
    {
     "data": {
      "image/png": "[encoded data removed]",
      "text/plain": [
       "<Figure size 640x480 with 1 Axes>"
      ]
     },
     "metadata": {},
     "output_type": "display_data"
    },
    {
     "name": "stdout",
     "output_type": "stream",
     "text": [
      "Prediction:  [0]\n",
      "Label:  0\n"
     ]
    },
    {
     "data": {
      "image/png": "[encoded data removed]",
      "text/plain": [
       "<Figure size 640x480 with 1 Axes>"
      ]
     },
     "metadata": {},
     "output_type": "display_data"
    },
    {
     "name": "stdout",
     "output_type": "stream",
     "text": [
      "Prediction:  [8]\n",
      "Label:  8\n"
     ]
    },
    {
     "data": {
      "image/png": "[encoded data removed]",
      "text/plain": [
       "<Figure size 640x480 with 1 Axes>"
      ]
     },
     "metadata": {},
     "output_type": "display_data"
    }
   ],
   "source": [
    "test_prediction(0, W1, b1, W2, b2)\n",
    "test_prediction(1, W1, b1, W2, b2)\n",
    "test_prediction(2, W1, b1, W2, b2)\n",
    "test_prediction(3, W1, b1, W2, b2)"
   ]
  },
  {
   "cell_type": "code",
   "execution_count": 10,
   "id": "f5f6e7c0",
   "metadata": {
    "execution": {
     "iopub.execute_input": "2024-04-17T13:43:22.258202Z",
     "iopub.status.busy": "2024-04-17T13:43:22.257795Z",
     "iopub.status.idle": "2024-04-17T13:43:22.293723Z",
     "shell.execute_reply": "2024-04-17T13:43:22.292064Z"
    },
    "papermill": {
     "duration": 0.062509,
     "end_time": "2024-04-17T13:43:22.304571",
     "exception": false,
     "start_time": "2024-04-17T13:43:22.242062",
     "status": "completed"
    },
    "tags": []
   },
   "outputs": [
    {
     "name": "stdout",
     "output_type": "stream",
     "text": [
      "[8 0 8 9 8 9 0 1 5 7 5 4 7 5 6 5 4 5 0 0 2 5 8 7 2 5 5 4 8 4 4 9 7 7 3 1 7\n",
      " 9 8 8 2 0 9 2 8 0 6 4 0 3 5 9 3 0 9 7 8 7 1 5 2 2 1 2 1 5 8 2 4 1 6 2 0 6\n",
      " 3 6 7 9 2 7 7 2 0 8 0 7 8 2 3 9 0 4 6 9 3 0 8 1 9 9 5 7 9 6 0 7 1 7 7 8 3\n",
      " 9 0 1 0 6 9 5 7 3 8 0 5 2 8 9 7 1 3 8 3 9 6 6 9 9 8 9 2 4 2 4 8 6 6 8 9 2\n",
      " 0 3 7 9 7 1 4 4 9 1 0 7 8 7 5 4 5 9 9 4 8 6 2 9 6 1 0 2 3 8 1 2 2 6 3 1 2\n",
      " 4 1 5 3 6 3 8 4 6 7 7 6 7 4 8 0 9 3 5 6 4 4 0 9 5 7 1 3 4 2 6 7 1 4 0 2 9\n",
      " 3 1 4 6 2 0 4 2 7 2 2 6 6 6 8 3 4 8 9 1 9 4 1 0 8 6 6 9 7 4 1 7 6 8 1 7 5\n",
      " 1 9 1 5 5 4 7 9 6 6 2 8 4 3 7 7 1 3 1 8 7 9 8 3 7 0 2 4 7 5 7 1 6 7 8 1 1\n",
      " 1 3 4 5 8 6 0 6 8 6 6 7 4 8 8 4 3 9 1 3 7 0 7 5 5 6 7 2 6 3 4 8 1 5 7 1 5\n",
      " 6 3 5 2 5 3 1 9 2 1 9 1 7 2 8 3 7 4 6 1 7 7 3 1 5 8 0 8 3 8 8 6 3 8 6 8 2\n",
      " 3 4 9 0 1 1 0 9 2 2 3 9 1 6 9 9 5 2 6 9 9 9 4 6 3 0 4 8 7 1 6 6 2 1 8 6 7\n",
      " 2 3 7 0 8 1 9 4 3 1 3 3 3 8 1 6 1 6 1 0 4 6 6 2 4 5 4 5 8 5 9 1 5 3 6 3 1\n",
      " 2 1 3 2 6 7 7 9 3 8 2 0 2 4 9 3 3 1 9 2 2 0 3 1 2 2 6 4 6 6 6 2 6 4 1 5 2\n",
      " 7 5 9 7 1 3 3 9 1 9 6 1 3 6 5 1 3 8 7 2 8 1 1 5 1 6 1 7 5 0 9 0 9 7 7 7 1\n",
      " 9 8 3 1 8 7 6 3 0 1 1 0 4 8 2 9 1 7 1 4 1 9 1 2 4 9 1 9 8 6 1 0 7 1 1 6 3\n",
      " 6 3 8 8 3 3 6 4 4 7 8 8 3 5 6 4 7 8 0 8 9 4 8 5 3 1 2 8 9 2 2 2 0 8 1 2 9\n",
      " 9 5 1 1 3 0 9 4 9 2 6 8 1 9 8 4 0 6 5 7 8 2 8 6 2 6 3 3 5 6 1 2 4 7 3 8 4\n",
      " 3 2 5 5 6 6 8 7 2 5 2 9 5 8 1 0 4 0 6 5 3 6 3 2 8 2 9 8 1 7 4 0 1 5 5 7 8\n",
      " 9 0 8 0 4 7 5 9 2 8 8 0 0 0 9 0 3 3 6 3 1 1 0 8 3 3 3 9 7 8 1 3 6 2 1 1 5\n",
      " 9 9 2 3 1 4 0 1 9 8 3 3 8 3 2 0 8 1 3 1 9 4 8 7 7 0 2 4 4 8 1 2 3 4 3 9 6\n",
      " 3 4 1 4 6 7 9 3 4 8 3 7 4 0 0 5 1 5 1 9 8 2 0 1 5 3 7 5 1 1 9 9 4 1 9 3 2\n",
      " 9 1 9 1 2 1 5 1 8 4 3 8 6 2 7 0 9 2 8 1 3 2 5 8 6 3 0 0 2 8 4 8 8 4 6 3 7\n",
      " 7 3 6 4 3 9 5 0 9 0 4 7 1 7 7 1 1 8 6 6 0 9 8 2 6 6 0 2 8 9 1 6 9 1 8 0 2\n",
      " 9 7 7 0 9 8 6 4 7 9 5 4 3 0 0 8 5 4 3 3 8 7 1 0 6 0 4 0 4 0 8 0 6 0 4 0 1\n",
      " 7 7 4 3 0 2 6 1 5 9 2 9 8 4 2 2 1 9 4 6 3 2 9 6 4 6 6 1 8 4 5 8 5 5 4 6 9\n",
      " 1 0 8 2 2 9 0 3 7 3 6 0 7 4 4 3 5 8 8 6 2 1 4 1 6 9 7 9 6 2 9 5 8 6 3 5 7\n",
      " 2 5 5 0 9 0 7 3 0 5 2 7 1 9 2 6 4 1 6 4 0 6 3 2 8 5 5 7 3 6 7 1 6 2 1 7 1\n",
      " 9] [8 5 5 7 8 2 0 1 8 7 5 8 9 6 5 3 5 5 0 0 2 5 5 7 0 5 5 4 3 9 9 4 7 7 3 1 7\n",
      " 7 8 8 2 0 9 2 8 0 6 4 0 3 5 9 3 0 9 7 8 7 1 5 2 2 1 2 1 8 8 2 4 1 6 2 0 6\n",
      " 3 6 7 9 2 7 7 2 0 8 0 7 5 2 3 9 0 4 4 4 3 0 8 1 4 7 5 7 4 6 0 7 1 7 7 8 3\n",
      " 9 2 1 0 6 9 3 7 3 8 0 8 2 8 7 7 1 3 1 8 9 6 6 9 9 8 9 2 3 2 6 8 6 6 5 3 6\n",
      " 0 3 7 9 7 1 4 4 9 1 0 7 8 7 5 4 5 4 9 4 8 6 2 7 2 1 0 2 3 8 1 2 2 6 1 1 2\n",
      " 4 1 5 3 6 3 8 4 6 7 9 6 7 4 8 0 9 3 8 6 4 9 0 9 5 7 1 7 4 2 6 7 3 4 5 2 4\n",
      " 3 1 4 6 2 0 9 2 7 2 2 6 6 6 7 3 6 1 9 1 9 2 1 0 3 6 6 4 7 4 1 7 6 5 1 7 3\n",
      " 1 4 1 5 0 9 7 9 6 6 2 8 8 3 7 7 1 3 1 8 7 9 8 3 7 0 2 4 3 5 7 1 6 7 8 1 1\n",
      " 1 3 9 5 3 6 5 6 8 6 8 7 4 5 8 4 5 9 1 3 7 0 9 5 0 2 7 2 6 3 4 8 1 5 7 1 5\n",
      " 6 2 5 2 0 3 1 9 2 1 9 1 7 2 8 3 7 4 6 1 7 7 6 1 5 8 0 5 3 2 9 6 3 8 6 8 2\n",
      " 3 4 9 0 1 1 0 9 6 2 3 9 1 6 9 9 5 3 6 9 4 7 4 5 3 0 4 5 7 7 6 6 2 1 1 6 7\n",
      " 2 3 7 0 9 1 4 4 3 1 3 3 3 5 1 6 1 6 1 0 2 6 6 2 4 5 4 5 5 5 4 1 5 3 6 3 1\n",
      " 2 1 3 5 6 7 7 7 5 5 2 6 2 4 9 3 3 1 9 2 2 0 3 1 6 6 4 4 6 6 4 2 6 2 1 5 2\n",
      " 7 8 7 7 1 3 2 9 1 9 6 1 8 6 1 1 3 6 7 2 5 1 1 5 1 6 1 7 5 0 7 0 9 9 7 9 1\n",
      " 2 8 3 1 8 7 6 5 0 9 1 0 4 6 5 9 1 7 1 4 1 9 1 2 4 9 1 8 8 0 1 5 7 1 1 6 3\n",
      " 6 3 8 8 3 3 6 2 8 7 8 8 3 0 6 5 7 4 0 8 7 4 8 3 3 1 2 8 9 6 2 2 0 8 1 2 9\n",
      " 9 5 8 1 8 0 9 6 8 2 5 5 1 4 8 4 5 6 8 7 5 8 8 6 2 6 8 1 5 6 1 5 4 7 2 8 4\n",
      " 5 8 5 6 6 0 5 7 2 0 2 9 5 8 1 0 4 0 5 5 3 6 3 2 9 2 9 8 1 7 4 0 1 5 5 7 5\n",
      " 7 0 8 0 4 7 5 8 2 8 8 0 0 0 4 0 3 0 6 3 1 3 0 8 3 3 3 9 7 8 1 3 6 2 1 1 7\n",
      " 9 9 2 8 1 9 0 1 9 8 3 3 8 8 2 0 3 1 3 1 9 4 8 7 7 0 2 9 4 8 1 2 3 4 3 9 6\n",
      " 3 4 1 4 6 7 7 3 4 8 3 7 4 0 0 5 1 5 1 9 4 2 0 1 5 5 2 5 1 1 9 5 4 1 9 8 2\n",
      " 4 1 7 1 2 3 5 1 8 4 3 8 6 2 7 5 9 2 8 1 3 2 3 3 4 5 5 0 6 8 4 8 8 4 6 3 7\n",
      " 7 7 5 9 3 9 5 0 4 0 4 7 1 7 7 1 1 8 6 6 0 9 9 2 6 6 0 2 8 3 1 6 9 1 8 7 2\n",
      " 7 7 7 0 9 8 6 9 7 9 5 4 3 0 0 5 5 4 2 2 2 7 1 0 6 0 4 0 4 6 8 0 6 0 4 0 1\n",
      " 7 7 4 3 0 2 6 1 0 4 2 9 8 4 2 2 1 9 4 6 3 2 9 6 4 5 8 1 5 4 6 8 5 5 8 6 9\n",
      " 1 0 8 2 2 9 0 8 5 8 6 7 3 4 4 3 5 8 8 6 2 1 4 1 6 9 7 9 6 2 7 5 8 6 3 5 7\n",
      " 2 5 5 0 9 0 7 3 0 6 2 7 1 9 3 6 4 1 6 4 0 6 3 2 4 5 5 7 3 3 7 1 2 2 1 7 1\n",
      " 9]\n"
     ]
    },
    {
     "data": {
      "text/plain": [
       "0.791"
      ]
     },
     "execution_count": 10,
     "metadata": {},
     "output_type": "execute_result"
    }
   ],
   "source": [
    "dev_predictions = make_predictions(X_dev, W1, b1, W2, b2)\n",
    "get_accuracy(dev_predictions, Y_dev)\n"
   ]
  },
  {
   "cell_type": "code",
   "execution_count": null,
   "id": "1852a50d",
   "metadata": {
    "papermill": {
     "duration": 0.027745,
     "end_time": "2024-04-17T13:43:22.360939",
     "exception": false,
     "start_time": "2024-04-17T13:43:22.333194",
     "status": "completed"
    },
    "tags": []
   },
   "outputs": [],
   "source": []
  }
 ],
 "metadata": {
  "kaggle": {
   "accelerator": "none",
   "dataSources": [
    {
     "databundleVersionId": 861823,
     "sourceId": 3004,
     "sourceType": "competition"
    }
   ],
   "dockerImageVersionId": 30684,
   "isGpuEnabled": false,
   "isInternetEnabled": false,
   "language": "python",
   "sourceType": "notebook"
  },
  "kernelspec": {
   "display_name": "Python 3",
   "language": "python",
   "name": "python3"
  },
  "language_info": {
   "codemirror_mode": {
    "name": "ipython",
    "version": 3
   },
   "file_extension": ".py",
   "mimetype": "text/x-python",
   "name": "python",
   "nbconvert_exporter": "python",
   "pygments_lexer": "ipython3",
   "version": "3.10.13"
  },
  "papermill": {
   "default_parameters": {},
   "duration": 86.011277,
   "end_time": "2024-04-17T13:43:23.014108",
   "environment_variables": {},
   "exception": null,
   "input_path": "__notebook__.ipynb",
   "output_path": "__notebook__.ipynb",
   "parameters": {},
   "start_time": "2024-04-17T13:41:57.002831",
   "version": "2.5.0"
  }
 },
 "nbformat": 4,
 "nbformat_minor": 5
}
